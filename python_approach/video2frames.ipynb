{
 "cells": [
  {
   "cell_type": "code",
   "execution_count": 1,
   "id": "33567455-3def-4dbe-b7dd-0f7b1db4a5ff",
   "metadata": {},
   "outputs": [],
   "source": [
    "import cv2\n",
    "import os"
   ]
  },
  {
   "cell_type": "code",
   "execution_count": 2,
   "id": "c5ee5476-69f1-4da1-9b7a-2029cd4d3b38",
   "metadata": {},
   "outputs": [],
   "source": [
    "capture = cv2.VideoCapture('./medusa.dv')"
   ]
  },
  {
   "cell_type": "code",
   "execution_count": 3,
   "id": "aaa150eb-76ff-4e5c-84cc-a5fa6a1d61d4",
   "metadata": {},
   "outputs": [],
   "source": [
    "frameNr = 0\n",
    "dir_name = './medusa'"
   ]
  },
  {
   "cell_type": "code",
   "execution_count": 4,
   "id": "121fd865-4dba-418e-a200-d9de4a0b261c",
   "metadata": {},
   "outputs": [],
   "source": [
    "while(frameNr < 390):\n",
    "    success, frame = capture.read();\n",
    "    if success:\n",
    "        some_numb = '{0}'.format(str(frameNr).zfill(3))\n",
    "        f_name = os.path.join(dir_name, 'medusa.{}.jpg'.format(some_numb))\n",
    "        cv2.imwrite(f_name, frame)\n",
    "    else:\n",
    "        break;\n",
    "    frameNr = frameNr + 1\n",
    "capture.release()"
   ]
  },
  {
   "cell_type": "code",
   "execution_count": null,
   "id": "79399016-6020-40a6-b5fd-998998cc186e",
   "metadata": {},
   "outputs": [],
   "source": []
  }
 ],
 "metadata": {
  "kernelspec": {
   "display_name": "Python 3 (ipykernel)",
   "language": "python",
   "name": "python3"
  },
  "language_info": {
   "codemirror_mode": {
    "name": "ipython",
    "version": 3
   },
   "file_extension": ".py",
   "mimetype": "text/x-python",
   "name": "python",
   "nbconvert_exporter": "python",
   "pygments_lexer": "ipython3",
   "version": "3.8.13"
  }
 },
 "nbformat": 4,
 "nbformat_minor": 5
}
