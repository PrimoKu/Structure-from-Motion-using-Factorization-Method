{
 "cells": [
  {
   "cell_type": "markdown",
   "id": "6a33ac70-b174-404a-83b8-4210374f8cd3",
   "metadata": {},
   "source": [
    "### Imported Packages"
   ]
  },
  {
   "cell_type": "code",
   "execution_count": 1,
   "id": "71fc9387-aeec-4993-bcf8-6c323ffa2817",
   "metadata": {},
   "outputs": [],
   "source": [
    "import numpy as np\n",
    "import cv2 as cv\n",
    "import pdb\n",
    "import os\n",
    "import sys\n",
    "import matplotlib.pyplot as plt\n",
    "from mpl_toolkits.mplot3d import Axes3D"
   ]
  },
  {
   "cell_type": "code",
   "execution_count": 2,
   "id": "31659385-cf0b-43c4-a2db-ca419273842c",
   "metadata": {},
   "outputs": [],
   "source": [
    "# Using SIFT features\n",
    "max_pts = 500\n",
    "sift = cv.SIFT_create(nfeatures=max_pts)"
   ]
  },
  {
   "cell_type": "code",
   "execution_count": 3,
   "id": "3d382688-1691-4624-a9b5-29a982056c11",
   "metadata": {},
   "outputs": [],
   "source": [
    "# FLANN parameters (Matcher of key points between frames)\n",
    "FLANN_INDEX_KDTREE = 1\n",
    "index_params = dict(algorithm = FLANN_INDEX_KDTREE, trees = 5)\n",
    "search_params = dict(checks=50)   # or pass empty dictionary\n",
    "flann = cv.FlannBasedMatcher(index_params,search_params)"
   ]
  },
  {
   "cell_type": "code",
   "execution_count": 4,
   "id": "9cefe6ad-1515-429c-9fde-b246237111fe",
   "metadata": {},
   "outputs": [],
   "source": [
    "def draw_and_save_img(frame, p, out_dir, k):\n",
    "    for i in range(p.shape[0]):\n",
    "        pt = p[i].reshape(-1)\n",
    "        cv.circle(frame, (int(pt[0]), int(pt[1])), 3, (0, 255, 0), -1)\n",
    "    f_name = 'frame_' + str(k) + '.png'\n",
    "    cv.imwrite(os.path.join(out_dir, f_name), frame)"
   ]
  },
  {
   "cell_type": "code",
   "execution_count": 5,
   "id": "bd5744a7-f1bf-4ce0-a565-4949c9a9d964",
   "metadata": {},
   "outputs": [],
   "source": [
    "dir_name = './medusa'\n",
    "frame_max = 388\n",
    "out_dir = './medu_pts'\n",
    "\n",
    "keypoint_points = []\n",
    "matching_points = []\n",
    "\n",
    "# read first frame and detect SIFT features\n",
    "first_frame = cv.imread(os.path.join(dir_name, 'medusa.000.jpg'))\n",
    "first_gray = cv.cvtColor(first_frame, cv.COLOR_BGR2GRAY)\n",
    "\n",
    "keypoint0, descript0 = sift.detectAndCompute(first_gray, None)\n",
    "p0 = cv.KeyPoint_convert(keypoint0)\n",
    "keypoint_points.append(keypoint0)\n",
    "draw_and_save_img(first_frame, p0, out_dir, 0)"
   ]
  },
  {
   "cell_type": "code",
   "execution_count": 6,
   "id": "ba960ca7-5fdf-4bf3-8fdf-294083dccd8a",
   "metadata": {},
   "outputs": [],
   "source": [
    "# for every frame find keypoints, match them, store match object and keypoints\n",
    "for f in range(1, frame_max + 1):\n",
    "    some_numb = '{0}'.format(str(f).zfill(3))\n",
    "    f_name = os.path.join(dir_name, 'medusa.{}.jpg'.format(some_numb))\n",
    "    \n",
    "    frame = cv.imread(f_name)\n",
    "    gray = cv.cvtColor(frame, cv.COLOR_BGR2GRAY)\n",
    "    \n",
    "    keypointi, descripti = sift.detectAndCompute(gray, None)\n",
    "    pi = cv.KeyPoint_convert(keypointi)\n",
    "    keypoint_points.append(keypointi)\n",
    "\n",
    "    matches = flann.knnMatch(descripti, descript0, k=1)\n",
    "    matches = [m[0] for m in matches]\n",
    "    \n",
    "    matching_points.append(matches)\n",
    "    \n",
    "    draw_and_save_img(frame, pi, out_dir, f)\n",
    "    \n",
    "    descript0 = descripti"
   ]
  },
  {
   "cell_type": "code",
   "execution_count": 7,
   "id": "76017ed2-f6a7-47bc-8486-445060c99efb",
   "metadata": {},
   "outputs": [],
   "source": [
    "# make link list, update class id of key point to its parent\n",
    "for idx, m_list in enumerate(matching_points):\n",
    "    for k in keypoint_points[idx+1]:\n",
    "        k.class_id = -2\n",
    "    \n",
    "    for m in m_list:\n",
    "        dist = m.distance\n",
    "        imgIdx = m.imgIdx\n",
    "        queryIdx = m.queryIdx # 2, i\n",
    "        trainIdx = m.trainIdx # 1, 0\n",
    "\n",
    "        k_2 = keypoint_points[idx+1][queryIdx]\n",
    "        k_2.class_id = trainIdx"
   ]
  },
  {
   "cell_type": "code",
   "execution_count": 8,
   "id": "6ec7c88f-5195-4418-951b-1bafc4bcc011",
   "metadata": {},
   "outputs": [],
   "source": [
    "# DFS functions\n",
    "def find_chain_driver(keypoint, z):\n",
    "    keypoint_list = [keypoint]\n",
    "    return find_chain(keypoint_list, z)"
   ]
  },
  {
   "cell_type": "code",
   "execution_count": 11,
   "id": "b0b20713-8206-4086-8d47-42914289b880",
   "metadata": {},
   "outputs": [],
   "source": [
    "def find_chain(key_point_list, z):\n",
    "    key_point = key_point_list[-1]\n",
    "    if z == 0:\n",
    "        return [key_point]\n",
    "    else:\n",
    "        temp_list = find_chain([keypoint_points[z-1][key_point.class_id]], z-1)\n",
    "        for item in temp_list:\n",
    "            key_point_list.append(item)\n",
    "        return key_point_list"
   ]
  },
  {
   "cell_type": "code",
   "execution_count": 12,
   "id": "c4e7c549-7a01-4f81-ab49-1805431d93d6",
   "metadata": {},
   "outputs": [
    {
     "name": "stdout",
     "output_type": "stream",
     "text": [
      "graph made\n"
     ]
    }
   ],
   "source": [
    "# back tracking, start from last frame key point, and go till first frame\n",
    "z = len(keypoint_points) - 1\n",
    "\n",
    "chain_list = []\n",
    "for k in keypoint_points[z]:\n",
    "    chain = find_chain_driver(k, z)\n",
    "    chain_list.append(chain)\n",
    "\n",
    "print('graph made')"
   ]
  },
  {
   "cell_type": "code",
   "execution_count": 13,
   "id": "2f02ceb2-7e68-4abe-a833-d93db64c2434",
   "metadata": {},
   "outputs": [
    {
     "name": "stdout",
     "output_type": "stream",
     "text": [
      "n_frames (F): 389 , Points (P): 501\n",
      "U: (389, 501) V: (389, 501) [ F X P ]\n",
      "W: (778, 501) [ 2F X P ]\n",
      "R: (778, 3) [ 2F X 3 ] S: (3, 501) [ 3 X P ]\n"
     ]
    }
   ],
   "source": [
    "# convert chains of key points to pixels\n",
    "frame_points = []\n",
    "for l in chain_list:\n",
    "    points = cv.KeyPoint_convert(l)\n",
    "    frame_points.append(points)\n",
    "\n",
    "points = np.array(frame_points)\n",
    "\n",
    "ftr_pts = points.shape[0]\n",
    "n_frames = points.shape[1]\n",
    "print('n_frames (F):', n_frames, ', Points (P):', ftr_pts)\n",
    "\n",
    "points = np.swapaxes(points, 2, 0)\n",
    "\n",
    "U = points[0] # horizontal features cooridinates\n",
    "V = points[1] # vertical features cooridinates\n",
    "print(\"U:\", U.shape, \"V:\", V.shape, \"[ F X P ]\")\n",
    "\n",
    "W = np.vstack((U, V)) # measurement matrix\n",
    "W = W - np.mean(W, axis=1)[:, None]\n",
    "W = W.astype('float32')\n",
    "print(\"W:\", W.shape, \"[ 2F X P ]\") # registered measurement matrix\n",
    "\n",
    "swap = 0\n",
    "# if 2F < P, everything can be repeated for the transpose of W\n",
    "if W.shape[0] < W.shape[1]:\n",
    "    W = W.T\n",
    "    swap = 1\n",
    "\n",
    "# Singular Value Decomposition\n",
    "u, s, vh = np.linalg.svd(W, full_matrices=False) #\n",
    "top_s_sqrt = np.diag(np.sqrt(s[:3]))\n",
    "\n",
    "if swap:\n",
    "    old_u = u.copy()\n",
    "    u = vh.T\n",
    "    vh = old_u.T\n",
    "\n",
    "top_u = u[:, :3]\n",
    "top_vh = vh[:3, :]\n",
    "\n",
    "R = np.dot(top_u, top_s_sqrt)\n",
    "S = np.dot(top_s_sqrt, top_vh)\n",
    "print(\"R:\",R.shape, \"[ 2F X 3 ]\", \"S:\",S.shape, \"[ 3 X P ]\")"
   ]
  },
  {
   "cell_type": "markdown",
   "id": "a8b509b0-67aa-4fac-924d-2a3dd3357572",
   "metadata": {},
   "source": [
    "### Perform Metric Transformation to get true R and true S"
   ]
  },
  {
   "cell_type": "code",
   "execution_count": 14,
   "id": "c02d6408-927c-4afb-82c6-b18ed10f7ad4",
   "metadata": {},
   "outputs": [],
   "source": [
    "def g(v1, v2):\n",
    "    [a, b, c] = v1\n",
    "    [x, y, z] = v2\n",
    "\n",
    "    res = [a*x, 2*a*y, 2*a*z, b*y, 2*b*z, c*z]\n",
    "    return res"
   ]
  },
  {
   "cell_type": "code",
   "execution_count": 15,
   "id": "6b6dddb3-17c7-4764-8a3f-e5126fb26be3",
   "metadata": {},
   "outputs": [],
   "source": [
    "def mat_G_maker(G, c, R1, R2, same=0):\n",
    "    c.fill(same)\n",
    "    n = R1.shape[0]\n",
    "    for i in range(n):\n",
    "        r1 = R1[i, :]\n",
    "        r2 = R2[i, :]\n",
    "        res = g(r1, r2)\n",
    "        G[i, :] = res\n",
    "\n",
    "    return G, c"
   ]
  },
  {
   "cell_type": "code",
   "execution_count": 16,
   "id": "86f447ee-f07b-4bb4-8064-45557ce55c57",
   "metadata": {},
   "outputs": [],
   "source": [
    "R_i = R[:n_frames, :]\n",
    "R_j = R[n_frames:, :]\n",
    "\n",
    "assert R_i.shape[0] == R_j.shape[0]\n",
    "\n",
    "G1, c1 = mat_G_maker(np.zeros((n_frames, 6)), np.zeros((n_frames, 1)), \\\n",
    "    R_i, R_i, same=1)\n",
    "G2, c2 = mat_G_maker(np.zeros((n_frames, 6)), np.zeros((n_frames, 1)), \\\n",
    "    R_j, R_j, same=1)\n",
    "G3, c3 = mat_G_maker(np.zeros((n_frames, 6)), np.zeros((n_frames, 1)), \\\n",
    "    R_i, R_j, same=0)\n",
    "\n",
    "\n",
    "G = np.vstack((G1, G2, G3))\n",
    "c = np.vstack((c1, c2, c3))\n",
    "c = c.squeeze()"
   ]
  },
  {
   "cell_type": "code",
   "execution_count": 17,
   "id": "932563cd-1f82-4add-866e-372213cc9638",
   "metadata": {},
   "outputs": [],
   "source": [
    "# # option 1: least square inbuilt\n",
    "# l = np.linalg.lstsq(G, c, rcond=None)[0]\n",
    "\n",
    "# # option 2: least square solution from scratch\n",
    "GTG_inv = np.linalg.pinv(np.dot(G.T, G))\n",
    "l = np.dot(np.dot(GTG_inv, G.T), c)\n",
    "\n",
    "# # option 3: use pinv to solve linear equation\n",
    "# l = np.pinv(G) * c"
   ]
  },
  {
   "cell_type": "code",
   "execution_count": 18,
   "id": "2733dcba-6519-416e-9efd-c616a0adf888",
   "metadata": {},
   "outputs": [],
   "source": [
    "L = np.array([[l[0], l[1], l[2]],[l[1], l[3], l[4]],[l[2], l[4], l[5]]])"
   ]
  },
  {
   "cell_type": "code",
   "execution_count": 19,
   "id": "8522706c-b8b6-4930-b9c3-864d0ec4a25b",
   "metadata": {},
   "outputs": [
    {
     "name": "stdout",
     "output_type": "stream",
     "text": [
      "new L close enough?: True\n"
     ]
    }
   ],
   "source": [
    "# enfore PSD if not\n",
    "d_, V_ = np.linalg.eig(L)\n",
    "D = np.diag(d_)\n",
    "D[D < 0] = 0.00001\n",
    "\n",
    "print(\"new L close enough?:\", np.allclose(L, np.dot(V_, np.dot(D, V_.T))))\n",
    "L = np.dot(V_, np.dot(D, V_.T))\n",
    "\n",
    "# L is a symmetric matrix\n",
    "Q = np.linalg.cholesky(L)\n",
    "\n",
    "R_true = np.dot(R, Q)\n",
    "S_true = np.dot(np.linalg.inv(Q), S)\n",
    "\n",
    "X = S_true[0, :]\n",
    "Y = S_true[1, :]\n",
    "Z = S_true[2, :]\n",
    "\n",
    "factor = 1\n",
    "pointcloud = np.zeros((X.shape[0], 3))\n",
    "pointcloud[:, 0] = X\n",
    "pointcloud[:, 1] = Y\n",
    "pointcloud[:, 2] = Z * factor\n",
    "\n",
    "np.savetxt('points_medusa.txt', pointcloud, fmt='%.2f', delimiter=',')"
   ]
  },
  {
   "cell_type": "code",
   "execution_count": 20,
   "id": "02454ff5-16d3-4582-9b8c-c3ba96edead3",
   "metadata": {},
   "outputs": [
    {
     "data": {
      "image/png": "[encoded data removed]",
      "text/plain": [
       "<Figure size 640x480 with 1 Axes>"
      ]
     },
     "metadata": {},
     "output_type": "display_data"
    }
   ],
   "source": [
    "fig = plt.figure()\n",
    "ax = fig.add_subplot(111, projection='3d')\n",
    "pnt3d = ax.scatter(pointcloud[:, 0],   # x\n",
    "           pointcloud[:, 1],   # y\n",
    "           pointcloud[:, 2],   # z\n",
    "           c=pointcloud[:, 2], # height data for color,\n",
    "           marker=\"x\")\n",
    "\n",
    "plt.savefig('medusa_snapshot.png')"
   ]
  },
  {
   "cell_type": "code",
   "execution_count": null,
   "id": "3369bd27-d6ad-47b9-aef9-087fd9845922",
   "metadata": {},
   "outputs": [],
   "source": []
  }
 ],
 "metadata": {
  "kernelspec": {
   "display_name": "Python 3 (ipykernel)",
   "language": "python",
   "name": "python3"
  },
  "language_info": {
   "codemirror_mode": {
    "name": "ipython",
    "version": 3
   },
   "file_extension": ".py",
   "mimetype": "text/x-python",
   "name": "python",
   "nbconvert_exporter": "python",
   "pygments_lexer": "ipython3",
   "version": "3.8.13"
  }
 },
 "nbformat": 4,
 "nbformat_minor": 5
}
